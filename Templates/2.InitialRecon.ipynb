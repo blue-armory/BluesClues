{
 "cells": [
  {
   "cell_type": "markdown",
   "metadata": {},
   "source": [
    "# Page Template\n",
    "This notebook contains commands and procedures necessary for all new pages.\n",
    "\n",
    "v1.2.0"
   ]
  },
  {
   "cell_type": "markdown",
   "metadata": {},
   "source": [
    "## Global Variables/Commands"
   ]
  },
  {
   "cell_type": "code",
   "execution_count": 1,
   "metadata": {},
   "outputs": [],
   "source": [
    "# Imports\n",
    "import templates\n",
    "import re\n",
    "import xml.etree.ElementTree as ET\n",
    "import json\n",
    "import os\n",
    "import datetime\n",
    "import pytz"
   ]
  },
  {
   "cell_type": "code",
   "execution_count": null,
   "metadata": {},
   "outputs": [],
   "source": [
    "# Variables\n",
    "#target_domain"
   ]
  },
  {
   "cell_type": "markdown",
   "metadata": {},
   "source": [
    "### Action Template"
   ]
  },
  {
   "cell_type": "code",
   "execution_count": null,
   "metadata": {},
   "outputs": [],
   "source": [
    "# Action Template\n",
    "\n",
    "#force_run = False\n",
    "\n",
    "#cmd_cache = ''\n",
    "#cmd_syntax = ''\n",
    "#cmd_os = ''\n",
    "\n",
    "#output = templates.cache_command_output(cmd_cache, force_run, cmd_os, cmd_syntax)\n",
    "\n",
    "#print(output)"
   ]
  },
  {
   "cell_type": "markdown",
   "metadata": {},
   "source": [
    "## OSINT Recon"
   ]
  },
  {
   "cell_type": "code",
   "execution_count": null,
   "metadata": {},
   "outputs": [],
   "source": [
    "# Whois\n",
    "#TODO Use requests to query whois site: https://whois.arin.net/ui/\n",
    "#TODO Add info recieved into 'loot' directory or page"
   ]
  },
  {
   "cell_type": "markdown",
   "metadata": {},
   "source": [
    "### Organizational Data\n",
    "- Organizational Structure\n",
    "  - Subordinate, senior and lateral organizations\n",
    "  - Subsidaries\n",
    "  - Public Presence\n",
    "  - Organizational Information\n",
    "- Organizational IT Data\n",
    "  - Repository commit history\n",
    "  - Email addresses or email address naming convention\n",
    "  - Files containing sensitive data and/or metadata - version numbers, applications, process/procedures, etc.\n",
    "- Data in External Sources\n",
    "  - Financials that indicate IT spending (security software purchases, etc.)\n",
    "  - Personnel on social media\n",
    "  - Customer technologies in resumes, newsgroups, LinkedIn skills, etc.\n",
    "\n",
    "**Add to Loot**\n",
    "- Company mission\n",
    "- Current events related to the company - acquisitions, conferences, etc.\n",
    "- Points of contact\n",
    "- Blogs (company and employee's personal)\n",
    "- Backend infrastructure\n",
    "- Financial and business information\n",
    "- Job descriptions for IT positions\n",
    "- Vendor names"
   ]
  },
  {
   "cell_type": "markdown",
   "metadata": {},
   "source": [
    "### Github/Pastebin Scraping\n",
    "- [Truffle Hog](https://github.com/trufflesecurity/trufflehog)\n",
    "- [Git Harvester](https://github.com/metac0rtex/GitHarvester)\n",
    "- [TrashPanda - OSINT Bot](https://got-hacked.wtf/)"
   ]
  },
  {
   "cell_type": "markdown",
   "metadata": {},
   "source": [
    "### NMAP Scans\n",
    "_Reference: [NMAP Cheat Sheet](https://www.stationx.net/nmap-cheat-sheet/)_"
   ]
  },
  {
   "cell_type": "markdown",
   "metadata": {},
   "source": [
    "#### NMAP Basic Alive Scans\n",
    "\n",
    "##### Command Switches\n",
    "- `-n` No DNS resolution\n",
    "- `-sn` Disable port scanning\n",
    "- `-oA` Output in .nmap, greppable nmap (.gnmap), and .xml"
   ]
  },
  {
   "cell_type": "code",
   "execution_count": null,
   "metadata": {},
   "outputs": [],
   "source": [
    "# NMAP Basic Alive Scan\n",
    "#TODO: Only supports scanning one subnet at a time currently\n",
    "force_run = False\n",
    "target_subnet = '192.168.0.0'\n",
    "target_subnet_class = '24'\n",
    "cmd_cache = f'nmap_alive_{target_subnet}_{target_subnet_class}'\n",
    "cmd_syntax = f'nmap -sn -n -oA {templates.var_vm_lootdir}/nmap/{target_subnet}_{target_subnet_class}_alive_basic {target_subnet}/{target_subnet_class}'\n",
    "#NOTE: Will only reliably accept 'vm'\n",
    "cmd_os = 'vm'\n",
    "\n",
    "output = templates.cache_command_output(cmd_cache, force_run, cmd_os, cmd_syntax)\n",
    "\n",
    "# Extract alive IPs\n",
    "alives_ips = re.findall(r'Nmap scan report for (\\S+)', output)\n",
    "alives_ips = [ip for ip in alives_ips if ip != 'Host']\n",
    "\n",
    "# Save alives to Loot\n",
    "with open(f'Loot/nmap/{target_subnet}_{target_subnet_class}_alive_basic', 'w') as file:\n",
    "    for ip in alives_ips:\n",
    "        file.write(ip + '\\n')\n",
    "print(f'Alive IPs for {target_subnet}/{target_subnet_class} have been written to Loot/nmap/')\n",
    "\n",
    "# Save alives to VM\n",
    "templates.command_scp_put_vm(f'Loot/nmap/{target_subnet}_{target_subnet_class}_alive', f'{templates.var_vm_lootdir}/nmap/{target_subnet}_{target_subnet_class}_alive_basic')"
   ]
  },
  {
   "cell_type": "markdown",
   "metadata": {},
   "source": [
    "#### NMAP Robust Alive Scans\n",
    "\n",
    "_Note: This is an aggressive scan which will probe all specified ports on every device in subnet_\n",
    "\n",
    "##### Command Switches\n",
    "- `-T3` Timing (default speed)\n",
    "- `--reason` Display the reason a port is in a particular state\n",
    "- `--randomize hosts` Scan hosts in random order\n",
    "- `-v` Increase verbosity (1x)\n",
    "- `-n` No DNS resolution\n",
    "- `-PE` ICMP echo requests to target (ping)\n",
    "- `-PM` ICMP timestamp requests\n",
    "- `-PO` Ping protocol discovery (port 1)\n",
    "- `-PU` UDP ping discovery (default port 40125)\n",
    "- `-PS` TCP SYN discovery on specified ports\n",
    "- `-PA` TCP ACK discovery on specified ports\n",
    "- `-sS` TCP SYN port scan (default)\n",
    "- `-sV` Attempts to determine the version\n",
    "- `-oA` Output in .nmap, greppable nmap (.gnmap), and .xml\n",
    "\n",
    "_Note: currently the robust scan is double up on ports in `-sS` and `-PS` unsure if sending double requests but could remove for clarity_"
   ]
  },
  {
   "cell_type": "code",
   "execution_count": 6,
   "metadata": {},
   "outputs": [
    {
     "name": "stdout",
     "output_type": "stream",
     "text": [
      "[*] Loading data from cache.\n",
      "[+] Finished NMAP scan\n",
      "[*] Loading data from cache.\n",
      "[+] JSON Scan output written to Loot/nmap/192.168.0.0_24_robust_alive.json\n",
      "[+] Assumed attack surface written to Loot/nmap/192.168.0.0_24_attack_surface\n"
     ]
    }
   ],
   "source": [
    "# NMAP Robust Alive Scan\n",
    "#TODO: Only supports scanning one subnet at a time currently\n",
    "#TODO: Kind of scary that running this again against the same subnet would overwrite the old info, might not matter though\n",
    "#NOTE: This scan requires root privileges\n",
    "force_run = False\n",
    "\n",
    "target_subnet = '192.168.0.0'\n",
    "target_subnet_class = '24'\n",
    "cmd_cache = f'nmap_robust_alive_{target_subnet}_{target_subnet_class}'\n",
    "cmd_syntax = f'sudo nmap -T3 --log-errors --reason --randomize-hosts -v -n -PE -PM -PO -PU -PS80,23,443,21,22,25,3389,110,445,139 -PA80,443,22,445,129 -sS -sV -p21,22,23,25,80,443,8080,8443 -oA {templates.var_vm_lootdir}/nmap/{target_subnet}_{target_subnet_class}_alive_robust {target_subnet}/{target_subnet_class}'\n",
    "#NOTE: Will only reliably accept 'vm'\n",
    "cmd_os = 'vm'\n",
    "\n",
    "output = templates.cache_command_output(cmd_cache, force_run, cmd_os, cmd_syntax)\n",
    "print('[+] Finished NMAP scan')\n",
    "#print(output)\n",
    "\n",
    "# Extract alive IPs and attributes from .xml\n",
    "cmd_cache = f'store_nmap_robust_alive_{target_subnet}_{target_subnet_class}'\n",
    "cmd_syntax = f'cat {templates.var_vm_lootdir}/nmap/{target_subnet}_{target_subnet_class}_alive_robust.xml'\n",
    "\n",
    "xml_output = templates.cache_command_output(cmd_cache, force_run, cmd_os, cmd_syntax)\n",
    "\n",
    "with open('Loot/nmap/tmp_xml', 'w') as file:\n",
    "    file.write(xml_output)\n",
    "\n",
    "# Parse the XML file\n",
    "tree = ET.parse('Loot/nmap/tmp_xml')\n",
    "root = tree.getroot()\n",
    "\n",
    "# Remove temporary .xml\n",
    "if os.path.exists(\"Loot/nmap/tmp_xml\"):\n",
    "  os.remove(\"Loot/nmap/tmp_xml\")\n",
    "else:\n",
    "  print(\"The temporary .xml file does not exist\")\n",
    "  \n",
    "# Initialize a dictionary to store the parsed data\n",
    "nmap_data = {\"hosts\": []}\n",
    "\n",
    "# Establish time conversion for nmap output\n",
    "#NOTE: Configured to output in Pacific time\n",
    "def convert_epoch_pst(epoch_time):\n",
    "    epoch_time = int(epoch_time)\n",
    "    timestamp_utc = datetime.datetime.utcfromtimestamp(epoch_time)\n",
    "    pst_timezone = pytz.timezone('America/Los_Angeles')\n",
    "    timestamp_pst = timestamp_utc.replace(tzinfo=pytz.utc).astimezone(pst_timezone)\n",
    "    formatted_timestamp = timestamp_pst.strftime('%H:%M:%S_%Z')\n",
    "    return formatted_timestamp\n",
    "\n",
    "\n",
    "# Parse each host in the XML\n",
    "for host in root.findall('.//host'):\n",
    "    # Extracting basic host information\n",
    "    host_attribs = host.attrib\n",
    "    status = host.find('status').attrib\n",
    "    address_info = host.find('address').attrib\n",
    "\n",
    "    host_entry = {\n",
    "        \"ip\": address_info['addr'],\n",
    "        \"status\": status['state'],\n",
    "        \"reason\": status['reason'],\n",
    "        \"scan_starttime\": convert_epoch_pst(host_attribs['starttime']),\n",
    "        \"scan_endtime\": convert_epoch_pst(host_attribs['endtime'])\n",
    "    }\n",
    "\n",
    "    # Extracting port information\n",
    "    ports = []\n",
    "    for port in host.findall('.//port'):\n",
    "        port_data = {\n",
    "            \"portid\": port.attrib['portid'],\n",
    "            \"protocol\": port.attrib['protocol'],\n",
    "            \"state\": port.find('state').attrib['state'],\n",
    "            \"service\": port.find('service').attrib['name'] if port.find('service') is not None else None\n",
    "        }\n",
    "        ports.append(port_data)\n",
    "\n",
    "    host_entry['ports'] = ports\n",
    "    nmap_data['hosts'].append(host_entry)\n",
    "\n",
    "# Sort NMAP data by IP and convert the dictionary to a JSON string\n",
    "nmap_data['hosts'] = sorted(nmap_data['hosts'], key=lambda x: tuple(int(part) for part in x['ip'].split('.')))\n",
    "nmap_json = json.dumps(nmap_data, indent=4)\n",
    "\n",
    "# Configure attack surface list\n",
    "#NOTE: This assumes the reset on the host means it is unreachable (most likely because firewall or not online)\n",
    "attack_surface_dict = []\n",
    "for host in nmap_data['hosts']:\n",
    "    if host['reason'] != 'reset':\n",
    "        for port in host['ports']:\n",
    "            attack_surface_dict.append(f\"{host['ip']}: {port['portid']}\")\n",
    "\n",
    "# Save the robust alive scan JSON data to a file\n",
    "json_file = f'Loot/nmap/{target_subnet}_{target_subnet_class}_alive_robust.json'\n",
    "with open(json_file, 'w') as file:\n",
    "    file.write(nmap_json)\n",
    "print(f'[+] JSON Scan output written to {json_file}')\n",
    "\n",
    "# Save the attack surface to a file\n",
    "attack_surface_file = f'Loot/nmap/{target_subnet}_{target_subnet_class}_attack_surface'\n",
    "with open(attack_surface_file, 'w') as file:\n",
    "    for entry in attack_surface_dict:\n",
    "        file.write(f'{entry}\\n')\n",
    "print(f'[+] Assumed attack surface written to {attack_surface_file}')"
   ]
  },
  {
   "cell_type": "markdown",
   "metadata": {},
   "source": [
    "#### NMAP Service Scan"
   ]
  },
  {
   "cell_type": "code",
   "execution_count": null,
   "metadata": {},
   "outputs": [],
   "source": [
    "#!/bin/sh\n",
    "# echo \"FTP scan\"\n",
    "# nmap -iL ad.ping_live.txt -vv -T4 --open -sV -Pn -n -p21 -oA ad.ftp\n",
    "# echo \"ssh scan\"\n",
    "# nmap -iL ad.ping_live.txt -vv -T4 --open -sV -Pn -n -p22 -oA ad.ssh\n",
    "# echo \"telnet scan\"\n",
    "# nmap -iL ad.ping_live.txt -vv -T4 --open -sV -Pn -n -p23 -oA ad.telnet\n",
    "# echo \"SMB scan\"\n",
    "# nmap -iL ad.ping_live.txt -vv -T4 --open -sV -Pn -n -p135,139,445 -oA ad.smb\n",
    "# echo \"RDS / Terminal services scan\"\n",
    "# nmap -iL ad.ping_live.txt -vv -T4 --open -sV -Pn -n -p3389 -oA ad.rds\n",
    "# echo \"IPMI TCP scan\"\n",
    "# nmap -iL ad.ping_live.txt -vv -T4 --open -sV -Pn -n -p623 -oA ad.ipmi_tcp\n",
    "# echo \"web quick scan\"\n",
    "# nmap -iL ad.ping_live.txt -vv -T4 --open -sV -Pn -n -p80,8080,443,8443 -oA ad.web_quick\n",
    "# echo \"mssql scan\"\n",
    "# nmap -iL ad.ping_live.txt -vv -T4 --open -sV -Pn -n -p1433 -oA ad.mssql\n",
    "# echo \"mysql scan\" \n",
    "# nmap -iL ad.ping_live.txt -vv -T4 --open -sV -Pn -n -p3306 -oA ad.mysql\n",
    "# echo \"VNC scan\"\n",
    "# nmap -iL ad.ping_live.txt -vv -T4 --open -sV -Pn -n -p5800,5900-5910,6000 -oA ad.vnc\n",
    "# echo \"X11 scan\"\n",
    "# nmap -iL ad.ping_live.txt -vv -T4 --open -sV -Pn -n -p6000-6063 -oA ad.x11\n",
    "# echo \"smart install\"\n",
    "# nmap -iL ad.ping_live.txt -vv -T4 --open -sV -Pn -n -p4786 -oA ad.cisco_smartinstall\n",
    "# echo \"Redis scan\"\n",
    "# nmap -iL ad.ping_live.txt -vv -T4 --open -sV -Pn -n -p6379 -oA ad.redis\n",
    "# echo \"mongodb scan\"\n",
    "# nmap -iL ad.ping_live.txt -vv -T4 --open -sV -Pn -n -p27017 -oA ad.mongodb\n",
    "# echo \"java RMI\"\n",
    "# nmap -iL ad.ping_live.txt -vv -T4 --open -sV -Pn -n -p1090,1098,1099,4444,11099,47001,47002,10999 -oA ad.java_RMI\n",
    "# echo \"weblogic\"\n",
    "# nmap -iL ad.ping_live.txt -vv -T4 --open -sV -Pn -n -p7000-7004,8000-8003,9000-9003,9503,7070,7071 -oA ad.weblogic\n",
    "# echo \"JDWP\"\n",
    "# nmap -iL ad.ping_live.txt -vv -T4 --open -sV -Pn -n -p45000,45001 -oA ad.JDWP\n",
    "# echo \"JMX\"\n",
    "# nmap -iL ad.ping_live.txt -vv -T4 --open -sV -Pn -n -p8686,9012,50500 -oA ad.JMX\n",
    "# echo \"GlassFish scan\"\n",
    "# nmap -iL ad.ping_live.txt -vv -T4 --open -sV -Pn -n -p4848 -oA ad.glassfish\n",
    "# echo \"jboss\"\n",
    "# nmap -iL ad.ping_live.txt -vv -T4 --open -sV -Pn -n -p11111,4444,4445 -oA ad.jboss\n",
    "# echo \"HP data protector\"\n",
    "# nmap -iL ad.ping_live.txt -vv -T4 --open -sV -Pn -n -p5555,5556 -oA ad.hp_data_protector\n",
    "# echo \"rexecd\"\n",
    "# nmap -iL ad.ping_live.txt -vv -T4 --open -sV -Pn -n -p512 -oA ad.rexecd\n",
    "# echo \"SNMP\"\n",
    "# nmap -iL ad.ping_live.txt -vv -T4 --open -sV -Pn -n -p161 -sU -oA ad.snmp\n",
    "# echo \"IPMI UDP\"\n",
    "# nmap -iL ad.ping_live.txt -vv -T4 --open -sV -Pn -n -p623 -sU -oA ad.ipmi_udp"
   ]
  }
 ],
 "metadata": {
  "kernelspec": {
   "display_name": "Python 3",
   "language": "python",
   "name": "python3"
  },
  "language_info": {
   "codemirror_mode": {
    "name": "ipython",
    "version": 3
   },
   "file_extension": ".py",
   "mimetype": "text/x-python",
   "name": "python",
   "nbconvert_exporter": "python",
   "pygments_lexer": "ipython3",
   "version": "3.11.3"
  }
 },
 "nbformat": 4,
 "nbformat_minor": 2
}
