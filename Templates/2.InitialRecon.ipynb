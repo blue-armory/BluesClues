{
 "cells": [
  {
   "cell_type": "markdown",
   "metadata": {},
   "source": [
    "# Initial Recon\n",
    "This notebook contains commands and procedures for conducting initial reconnaissance on a target.\n",
    "\n",
    "v1.2.2"
   ]
  },
  {
   "cell_type": "markdown",
   "metadata": {},
   "source": [
    "### Action Template"
   ]
  },
  {
   "cell_type": "code",
   "execution_count": null,
   "metadata": {},
   "outputs": [],
   "source": [
    "# Action Template\n",
    "\n",
    "#force_run = False\n",
    "\n",
    "#cmd_cache = ''\n",
    "#cmd_syntax = ''\n",
    "#cmd_os = ''\n",
    "\n",
    "#output = templates.cache_command_output(cmd_cache, force_run, cmd_os, cmd_syntax)\n",
    "\n",
    "#print(output)"
   ]
  },
  {
   "cell_type": "markdown",
   "metadata": {},
   "source": [
    "## OSINT Recon Overview\n",
    "### Organizational Data\n",
    "- Organizational Structure\n",
    "  - Subordinate, senior and lateral organizations\n",
    "  - Subsidaries\n",
    "  - Public Presence\n",
    "  - Organizational Information\n",
    "- Organizational IT Data\n",
    "  - Repository commit history\n",
    "  - Email addresses or email address naming convention\n",
    "  - Files containing sensitive data and/or metadata - version numbers, applications, process/procedures, etc.\n",
    "- Data in External Sources\n",
    "  - Financials that indicate IT spending (security software purchases, etc.)\n",
    "  - Personnel on social media\n",
    "  - Customer technologies in resumes, newsgroups, LinkedIn skills, etc.\n",
    "\n",
    "**Add to Loot**  \n",
    "_TODO: This loot section should explain where these values are used (i.e. in another Action in InitialRecon or InitialCompromise)_\n",
    "- Company mission\n",
    "- Current events related to the company - acquisitions, conferences, etc.\n",
    "- Points of contact\n",
    "- Blogs (company and employee's personal)\n",
    "- Backend infrastructure\n",
    "- Financial and business information\n",
    "- Job descriptions for IT positions\n",
    "- Vendor names\n",
    "- Associated public facing IPs"
   ]
  },
  {
   "cell_type": "markdown",
   "metadata": {},
   "source": [
    "## NSLookup"
   ]
  },
  {
   "cell_type": "code",
   "execution_count": null,
   "metadata": {},
   "outputs": [],
   "source": [
    "# NSLookup\n",
    "import templates, json, re, os\n",
    "\n",
    "force_run = False\n",
    "\n",
    "nslookup_query = 'scanme.nmap.org'\n",
    "cmd_cache = f'nslookup_{nslookup_query}'\n",
    "cmd_syntax = f'nslookup {nslookup_query}'\n",
    "cmd_os = 'win'\n",
    "\n",
    "nslookup_output = templates.cache_command_output(cmd_cache, force_run, cmd_os, cmd_syntax)\n",
    "\n",
    "server_match = re.search(r'^Server:\\s+(.*)', nslookup_output, re.MULTILINE)\n",
    "address_match = re.search(r'^Address:\\s+(\\S+)', nslookup_output, re.MULTILINE)\n",
    "name_match = re.search(r'^Name:\\s+(.*)', nslookup_output, re.MULTILINE)\n",
    "\n",
    "# Capture everything after 'Addresses:' up to the next section\n",
    "addresses_block = re.search(r'Addresses:([\\s\\S]*?)(?=\\n\\S|$)', nslookup_output)\n",
    "if addresses_block:\n",
    "    addresses_matches = [ip.strip() for ip in addresses_block.group(1).strip().splitlines() if ip.strip()]\n",
    "else:\n",
    "    addresses_matches = []\n",
    "\n",
    "#NOTE: Currently only captures a single a single alias, uncomment below #print(nslookup_output) to check nslookup output if you believe there is an error\n",
    "aliases_match = re.findall(r'^Aliases:\\s+(.*)', nslookup_output, re.MULTILINE)\n",
    "\n",
    "# Extracted data\n",
    "nslookup_data = {\n",
    "    'Server': server_match.group(1).strip() if server_match else None,\n",
    "    'Address': address_match.group(1) if address_match else None,\n",
    "    'Name': name_match.group(1).strip() if name_match else None,\n",
    "    'Addresses': addresses_matches,\n",
    "    'Aliases': aliases_match\n",
    "}\n",
    "\n",
    "# Convert the dictionary to a JSON string\n",
    "nslookup_json = json.dumps(nslookup_data, indent=4)\n",
    "\n",
    "#print(nslookup_output)\n",
    "\n",
    "# Write to loot directory\n",
    "output_dir = 'Loot/nslookup'\n",
    "if not os.path.exists(output_dir):\n",
    "    os.makedirs(output_dir)\n",
    "\n",
    "# Create caching based off loot\n",
    "if not os.path.exists(f'{output_dir}/{nslookup_query}'):\n",
    "    with open(f'{output_dir}/{nslookup_query}','w') as file:\n",
    "            file.write(nslookup_json)\n",
    "            print(f'[*] Loot stored at {output_dir}/{nslookup_query}')\n",
    "else:\n",
    "    print(f'[*] Output located {output_dir}/{nslookup_query}')"
   ]
  },
  {
   "cell_type": "markdown",
   "metadata": {},
   "source": [
    "## ARIN Whois Lookup"
   ]
  },
  {
   "cell_type": "code",
   "execution_count": null,
   "metadata": {},
   "outputs": [],
   "source": [
    "# Whois\n",
    "import templates, re, json, requests, os\n",
    "whois_param = 'wowhead.com'\n",
    "\n",
    "# Function to check if a string is an IP address\n",
    "def is_ip_address(address):\n",
    "    return re.match(r'^\\d+\\.\\d+\\.\\d+\\.\\d+$', address) is not None\n",
    "\n",
    "# Determine if we are dealing with an IP or a domain\n",
    "whois_type = 'org' if is_ip_address(whois_param) else 'ip'\n",
    "\n",
    "whois_addresses = []\n",
    "if not is_ip_address(whois_param):\n",
    "    # Load nslookup data if whois_param is not an IP\n",
    "    try:\n",
    "        with open(f'Loot/nslookup/{whois_param}', 'r') as file:\n",
    "            nslookup_data = json.load(file)\n",
    "            whois_addresses = nslookup_data.get('Addresses', [])\n",
    "            print(f'[+] Found nslookup data for {whois_param}')\n",
    "    except FileNotFoundError:\n",
    "        print(f'[-] No nslookup data found for {whois_param}')\n",
    "\n",
    "def query_whois(query, query_type):\n",
    "    base_url = 'http://whois.arin.net/rest'\n",
    "    if query_type in ['ip', 'org']:\n",
    "        response = requests.get(f'{base_url}/{query_type}/{query}.json')\n",
    "        if response.status_code == 200:\n",
    "            return response.json()\n",
    "        else:\n",
    "            print(f'Error: {response.status_code}')\n",
    "            return None\n",
    "\n",
    "# Ensure the loot dir exists for whois and create it\n",
    "output_dir = 'Loot/whois'\n",
    "os.makedirs(output_dir, exist_ok=True)\n",
    "\n",
    "def store_whois_data(query, query_type):\n",
    "    whois_query = query_whois(query, query_type)\n",
    "    if whois_query:\n",
    "        with open(f'{output_dir}/{query}', 'w') as file:\n",
    "            json.dump(whois_query, file, indent=4)\n",
    "        print(f'[+] Loot stored at {output_dir}/{query}')\n",
    "\n",
    "# Main execution\n",
    "if whois_addresses:\n",
    "    for address in whois_addresses:\n",
    "        # Run whois query and save output to json\n",
    "        store_whois_data(address, whois_type)\n",
    "\n",
    "        # Write data to logs for timeline recreation\n",
    "        templates.append_log('win', f'Python(whois_request {address})', f' Output saved: {output_dir}/{address}')\n",
    "else:\n",
    "    store_whois_data(whois_param, whois_type)"
   ]
  },
  {
   "cell_type": "markdown",
   "metadata": {},
   "source": [
    "## Github/Pastebin Scraping\n",
    "- [Truffle Hog](https://github.com/trufflesecurity/trufflehog)\n",
    "- [Git Harvester](https://github.com/metac0rtex/GitHarvester)\n",
    "- [TrashPanda - OSINT Bot](https://got-hacked.wtf/)"
   ]
  },
  {
   "cell_type": "code",
   "execution_count": null,
   "metadata": {},
   "outputs": [],
   "source": [
    "#TODO"
   ]
  },
  {
   "cell_type": "markdown",
   "metadata": {},
   "source": [
    "## Email Enumeration"
   ]
  },
  {
   "cell_type": "code",
   "execution_count": null,
   "metadata": {},
   "outputs": [],
   "source": [
    "#TODO"
   ]
  },
  {
   "cell_type": "markdown",
   "metadata": {},
   "source": [
    "## Google Dorks"
   ]
  },
  {
   "cell_type": "code",
   "execution_count": null,
   "metadata": {},
   "outputs": [],
   "source": [
    "#TODO"
   ]
  },
  {
   "cell_type": "markdown",
   "metadata": {},
   "source": [
    "## VirusTotal Scraping"
   ]
  },
  {
   "cell_type": "code",
   "execution_count": null,
   "metadata": {},
   "outputs": [],
   "source": [
    "#TODO"
   ]
  },
  {
   "cell_type": "markdown",
   "metadata": {},
   "source": [
    "## Social Media Scraping"
   ]
  },
  {
   "cell_type": "code",
   "execution_count": null,
   "metadata": {},
   "outputs": [],
   "source": [
    "#TODO"
   ]
  },
  {
   "cell_type": "markdown",
   "metadata": {},
   "source": [
    "## DNS Recon"
   ]
  },
  {
   "cell_type": "code",
   "execution_count": null,
   "metadata": {},
   "outputs": [],
   "source": [
    "#TODO"
   ]
  },
  {
   "cell_type": "markdown",
   "metadata": {},
   "source": [
    "## NMAP Scans\n",
    "_Reference: [NMAP Cheat Sheet](https://www.stationx.net/nmap-cheat-sheet/)_"
   ]
  },
  {
   "cell_type": "markdown",
   "metadata": {},
   "source": [
    "### NMAP Basic Alive Scans\n",
    "\n",
    "#### Command Switches\n",
    "- `-n` No DNS resolution\n",
    "- `-sn` Disable port scanning\n",
    "- `-oA` Output in .nmap, greppable nmap (.gnmap), and .xml"
   ]
  },
  {
   "cell_type": "code",
   "execution_count": null,
   "metadata": {},
   "outputs": [],
   "source": [
    "# NMAP Basic Alive Scan\n",
    "#TODO: Only supports scanning one subnet at a time currently\n",
    "import templates, re\n",
    "force_run = False\n",
    "target_subnet = '18.155.173.122'\n",
    "target_subnet_class = '32'\n",
    "cmd_cache = f'nmap_alive_{target_subnet}_{target_subnet_class}'\n",
    "cmd_syntax = f'nmap -sn -n -oA {templates.var_vm_lootdir}/nmap/{target_subnet}_{target_subnet_class}_alive_basic {target_subnet}/{target_subnet_class}'\n",
    "#NOTE: Will only reliably accept 'vm'\n",
    "cmd_os = 'vm'\n",
    "\n",
    "output = templates.cache_command_output(cmd_cache, force_run, cmd_os, cmd_syntax)\n",
    "\n",
    "# Extract alive IPs\n",
    "alives_ips = re.findall(r'Nmap scan report for (\\S+)', output)\n",
    "alives_ips = [ip for ip in alives_ips if ip != 'Host']\n",
    "\n",
    "# Save alives to Loot\n",
    "with open(f'Loot/nmap/{target_subnet}_{target_subnet_class}_alive_basic', 'w') as file:\n",
    "    for ip in alives_ips:\n",
    "        file.write(ip + '\\n')\n",
    "print(f'Alive IPs for {target_subnet}/{target_subnet_class} have been written to Loot/nmap/')\n",
    "\n",
    "# Save alives to VM\n",
    "templates.command_scp_put_vm(f'Loot/nmap/{target_subnet}_{target_subnet_class}_alive_basic', f'{templates.var_vm_lootdir}/nmap/{target_subnet}_{target_subnet_class}_alive_basic')"
   ]
  },
  {
   "cell_type": "markdown",
   "metadata": {},
   "source": [
    "### NMAP Robust Alive Scans\n",
    "\n",
    "_Note: This is an aggressive scan which will probe all specified ports on every device in subnet_\n",
    "\n",
    "#### Command Switches\n",
    "- `-T3` Timing (default speed)\n",
    "- `--reason` Display the reason a port is in a particular state\n",
    "- `--randomize hosts` Scan hosts in random order\n",
    "- `-v` Increase verbosity (1x)\n",
    "- `-n` No DNS resolution\n",
    "- `-PE` ICMP echo requests to target (ping)\n",
    "- `-PM` ICMP timestamp requests\n",
    "- `-PO` Ping protocol discovery (port 1)\n",
    "- `-PU` UDP ping discovery (default port 40125)\n",
    "- `-PS` TCP SYN discovery on specified ports\n",
    "- `-PA` TCP ACK discovery on specified ports\n",
    "- `-sS` TCP SYN port scan (default)\n",
    "- `-sV` Attempts to determine the version\n",
    "- `-oA` Output in .nmap, greppable nmap (.gnmap), and .xml\n",
    "\n",
    "_Note: currently the robust scan is double up on ports in `-sS` and `-PS` unsure if sending double requests but could remove for clarity_"
   ]
  },
  {
   "cell_type": "code",
   "execution_count": null,
   "metadata": {},
   "outputs": [],
   "source": [
    "# NMAP Robust Alive Scan\n",
    "#TODO: Only supports scanning one subnet at a time currently\n",
    "#TODO: Running scan against subnet will overwrite old output, this action should not do that but need to account for caching\n",
    "#TODO: Not currently capturing version information into attack_surface or ...alive_robust.json\n",
    "#NOTE: This scan requires root privileges\n",
    "import templates, os, datetime, pytz, json\n",
    "import xml.etree.ElementTree as ET\n",
    "\n",
    "force_run = False\n",
    "\n",
    "target_subnet = '192.168.0.0'\n",
    "target_subnet_class = '24'\n",
    "cmd_cache = f'nmap_robust_alive_{target_subnet}_{target_subnet_class}'\n",
    "cmd_syntax = f'sudo nmap -T3 --log-errors --reason --randomize-hosts -v -n -PE -PM -PO -PU -PS80,23,443,21,22,25,3389,110,445,139 -PA80,443,22,445,129 -sS -sV -p1-65200 -oA {templates.var_vm_lootdir}/nmap/{target_subnet}_{target_subnet_class}_alive_robust {target_subnet}/{target_subnet_class}'\n",
    "#NOTE: Will only reliably accept 'vm'\n",
    "cmd_os = 'vm'\n",
    "\n",
    "output = templates.cache_command_output(cmd_cache, force_run, cmd_os, cmd_syntax)\n",
    "print('[+] Finished NMAP scan')\n",
    "#print(output)\n",
    "\n",
    "# Extract alive IPs and attributes from .xml\n",
    "cmd_cache = f'store_nmap_robust_alive_{target_subnet}_{target_subnet_class}'\n",
    "cmd_syntax = f'cat {templates.var_vm_lootdir}/nmap/{target_subnet}_{target_subnet_class}_alive_robust.xml'\n",
    "\n",
    "xml_output = templates.cache_command_output(cmd_cache, force_run, cmd_os, cmd_syntax)\n",
    "\n",
    "with open('Loot/nmap/tmp_xml', 'w') as file:\n",
    "    file.write(xml_output)\n",
    "\n",
    "# Parse the XML file\n",
    "tree = ET.parse('Loot/nmap/tmp_xml')\n",
    "root = tree.getroot()\n",
    "\n",
    "# Remove temporary .xml\n",
    "if os.path.exists(\"Loot/nmap/tmp_xml\"):\n",
    "  os.remove(\"Loot/nmap/tmp_xml\")\n",
    "else:\n",
    "  print(\"The temporary .xml file does not exist\")\n",
    "  \n",
    "# Initialize a dictionary to store the parsed data\n",
    "nmap_data = {\"hosts\": []}\n",
    "\n",
    "# Establish time conversion for nmap output\n",
    "#NOTE: Configured to output in Pacific time\n",
    "def convert_epoch_pst(epoch_time):\n",
    "    epoch_time = int(epoch_time)\n",
    "    timestamp_utc = datetime.datetime.utcfromtimestamp(epoch_time)\n",
    "    pst_timezone = pytz.timezone('America/Los_Angeles')\n",
    "    timestamp_pst = timestamp_utc.replace(tzinfo=pytz.utc).astimezone(pst_timezone)\n",
    "    formatted_timestamp = timestamp_pst.strftime('%H:%M:%S_%Z')\n",
    "    return formatted_timestamp\n",
    "\n",
    "\n",
    "# Parse each host in the XML\n",
    "for host in root.findall('.//host'):\n",
    "    # Extracting basic host information\n",
    "    host_attribs = host.attrib\n",
    "    status = host.find('status').attrib\n",
    "    address_info = host.find('address').attrib\n",
    "\n",
    "    host_entry = {\n",
    "        \"ip\": address_info['addr'],\n",
    "        \"status\": status['state'],\n",
    "        \"reason\": status['reason'],\n",
    "        \"scan_starttime\": convert_epoch_pst(host_attribs['starttime']),\n",
    "        \"scan_endtime\": convert_epoch_pst(host_attribs['endtime'])\n",
    "    }\n",
    "\n",
    "    # Extracting port information\n",
    "    ports = []\n",
    "    for port in host.findall('.//port'):\n",
    "        port_data = {\n",
    "            \"portid\": port.attrib['portid'],\n",
    "            \"protocol\": port.attrib['protocol'],\n",
    "            \"state\": port.find('state').attrib['state'],\n",
    "            \"service\": port.find('service').attrib['name'] if port.find('service') is not None else None\n",
    "        }\n",
    "        ports.append(port_data)\n",
    "\n",
    "    host_entry['ports'] = ports\n",
    "    nmap_data['hosts'].append(host_entry)\n",
    "\n",
    "# Sort NMAP data by IP and convert the dictionary to a JSON string\n",
    "nmap_data['hosts'] = sorted(nmap_data['hosts'], key=lambda x: tuple(int(part) for part in x['ip'].split('.')))\n",
    "nmap_json = json.dumps(nmap_data, indent=4)\n",
    "\n",
    "# Configure attack surface list\n",
    "#NOTE: This assumes the reset on the host means it is unreachable (most likely because firewall or not online)\n",
    "attack_surface_dict = []\n",
    "for host in nmap_data['hosts']:\n",
    "    if host['reason'] != 'reset':\n",
    "        for port in host['ports']:\n",
    "            if port['state'] == 'open':\n",
    "                attack_surface_dict.append(f\"{host['ip']}: {port['portid']}\")\n",
    "\n",
    "# Save the robust alive scan JSON data to a file\n",
    "json_file = f'Loot/nmap/{target_subnet}_{target_subnet_class}_alive_robust.json'\n",
    "with open(json_file, 'w') as file:\n",
    "    file.write(nmap_json)\n",
    "print(f'[+] JSON Scan output written to {json_file}')\n",
    "\n",
    "# Save the attack surface to a file\n",
    "attack_surface_file = f'Loot/nmap/{target_subnet}_{target_subnet_class}_attack_surface'\n",
    "with open(attack_surface_file, 'w') as file:\n",
    "    for entry in attack_surface_dict:\n",
    "        file.write(f'{entry}\\n')\n",
    "print(f'[+] Assumed attack surface written to {attack_surface_file}')"
   ]
  },
  {
   "cell_type": "markdown",
   "metadata": {},
   "source": [
    "### NMAP Service Scan"
   ]
  },
  {
   "cell_type": "code",
   "execution_count": null,
   "metadata": {},
   "outputs": [],
   "source": [
    "#TODO Incorporate the below scans based on the results of above NMAP scan\n",
    "#!/bin/sh\n",
    "# echo \"FTP scan\"\n",
    "# nmap -iL ad.ping_live.txt -vv -T4 --open -sV -Pn -n -p21 -oA ad.ftp\n",
    "# echo \"ssh scan\"\n",
    "# nmap -iL ad.ping_live.txt -vv -T4 --open -sV -Pn -n -p22 -oA ad.ssh\n",
    "# echo \"telnet scan\"\n",
    "# nmap -iL ad.ping_live.txt -vv -T4 --open -sV -Pn -n -p23 -oA ad.telnet\n",
    "# echo \"SMB scan\"\n",
    "# nmap -iL ad.ping_live.txt -vv -T4 --open -sV -Pn -n -p135,139,445 -oA ad.smb\n",
    "# echo \"RDS / Terminal services scan\"\n",
    "# nmap -iL ad.ping_live.txt -vv -T4 --open -sV -Pn -n -p3389 -oA ad.rds\n",
    "# echo \"IPMI TCP scan\"\n",
    "# nmap -iL ad.ping_live.txt -vv -T4 --open -sV -Pn -n -p623 -oA ad.ipmi_tcp\n",
    "# echo \"web quick scan\"\n",
    "# nmap -iL ad.ping_live.txt -vv -T4 --open -sV -Pn -n -p80,8080,443,8443 -oA ad.web_quick\n",
    "# echo \"mssql scan\"\n",
    "# nmap -iL ad.ping_live.txt -vv -T4 --open -sV -Pn -n -p1433 -oA ad.mssql\n",
    "# echo \"mysql scan\" \n",
    "# nmap -iL ad.ping_live.txt -vv -T4 --open -sV -Pn -n -p3306 -oA ad.mysql\n",
    "# echo \"VNC scan\"\n",
    "# nmap -iL ad.ping_live.txt -vv -T4 --open -sV -Pn -n -p5800,5900-5910,6000 -oA ad.vnc\n",
    "# echo \"X11 scan\"\n",
    "# nmap -iL ad.ping_live.txt -vv -T4 --open -sV -Pn -n -p6000-6063 -oA ad.x11\n",
    "# echo \"smart install\"\n",
    "# nmap -iL ad.ping_live.txt -vv -T4 --open -sV -Pn -n -p4786 -oA ad.cisco_smartinstall\n",
    "# echo \"Redis scan\"\n",
    "# nmap -iL ad.ping_live.txt -vv -T4 --open -sV -Pn -n -p6379 -oA ad.redis\n",
    "# echo \"mongodb scan\"\n",
    "# nmap -iL ad.ping_live.txt -vv -T4 --open -sV -Pn -n -p27017 -oA ad.mongodb\n",
    "# echo \"java RMI\"\n",
    "# nmap -iL ad.ping_live.txt -vv -T4 --open -sV -Pn -n -p1090,1098,1099,4444,11099,47001,47002,10999 -oA ad.java_RMI\n",
    "# echo \"weblogic\"\n",
    "# nmap -iL ad.ping_live.txt -vv -T4 --open -sV -Pn -n -p7000-7004,8000-8003,9000-9003,9503,7070,7071 -oA ad.weblogic\n",
    "# echo \"JDWP\"\n",
    "# nmap -iL ad.ping_live.txt -vv -T4 --open -sV -Pn -n -p45000,45001 -oA ad.JDWP\n",
    "# echo \"JMX\"\n",
    "# nmap -iL ad.ping_live.txt -vv -T4 --open -sV -Pn -n -p8686,9012,50500 -oA ad.JMX\n",
    "# echo \"GlassFish scan\"\n",
    "# nmap -iL ad.ping_live.txt -vv -T4 --open -sV -Pn -n -p4848 -oA ad.glassfish\n",
    "# echo \"jboss\"\n",
    "# nmap -iL ad.ping_live.txt -vv -T4 --open -sV -Pn -n -p11111,4444,4445 -oA ad.jboss\n",
    "# echo \"HP data protector\"\n",
    "# nmap -iL ad.ping_live.txt -vv -T4 --open -sV -Pn -n -p5555,5556 -oA ad.hp_data_protector\n",
    "# echo \"rexecd\"\n",
    "# nmap -iL ad.ping_live.txt -vv -T4 --open -sV -Pn -n -p512 -oA ad.rexecd\n",
    "# echo \"SNMP\"\n",
    "# nmap -iL ad.ping_live.txt -vv -T4 --open -sV -Pn -n -p161 -sU -oA ad.snmp\n",
    "# echo \"IPMI UDP\"\n",
    "# nmap -iL ad.ping_live.txt -vv -T4 --open -sV -Pn -n -p623 -sU -oA ad.ipmi_udp"
   ]
  }
 ],
 "metadata": {
  "kernelspec": {
   "display_name": "Python 3",
   "language": "python",
   "name": "python3"
  },
  "language_info": {
   "codemirror_mode": {
    "name": "ipython",
    "version": 3
   },
   "file_extension": ".py",
   "mimetype": "text/x-python",
   "name": "python",
   "nbconvert_exporter": "python",
   "pygments_lexer": "ipython3",
   "version": "3.11.3"
  }
 },
 "nbformat": 4,
 "nbformat_minor": 2
}
