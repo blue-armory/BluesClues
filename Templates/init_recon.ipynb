{
 "cells": [
  {
   "cell_type": "markdown",
   "metadata": {},
   "source": [
    "# Initial Recon\n",
    "This notebook contains commands and procedures for conducting initial reconnaissance on a target. Customize the variables below according to your specific requirements.\n"
   ]
  },
  {
   "cell_type": "markdown",
   "metadata": {},
   "source": [
    "## Define Assessment Type\n"
   ]
  },
  {
   "cell_type": "code",
   "execution_count": null,
   "metadata": {},
   "outputs": [],
   "source": [
    "#Assessment Type\n",
    "_var_assess_type = ['red_team', 'internal', 'purple_team', 'web_assess']\n",
    "_var_assess_name = 'TestAssess1'"
   ]
  },
  {
   "cell_type": "markdown",
   "metadata": {},
   "source": [
    "## Global Variables/Commands"
   ]
  },
  {
   "cell_type": "code",
   "execution_count": null,
   "metadata": {},
   "outputs": [],
   "source": [
    "# Imports\n",
    "import os\n",
    "import subprocess\n",
    "import datetime\n",
    "from IPython.display import display, Markdown"
   ]
  },
  {
   "cell_type": "code",
   "execution_count": null,
   "metadata": {},
   "outputs": [],
   "source": [
    "# Global Variables\n",
    "_var_target_ip = '127.0.0.1'\n",
    "_var_log_location = f'Logs/{_var_assess_name}'\n"
   ]
  },
  {
   "cell_type": "code",
   "execution_count": null,
   "metadata": {},
   "outputs": [],
   "source": [
    "# Append to Log\n",
    "if not os.path.exists(_var_log_location):\n",
    "    open(f'{_var_log_location}.txt', 'a').close()\n",
    "    \n",
    "def _func_append_to_log(source, command, output):\n",
    "    with open(f'{_var_log_location}.txt', 'a') as log_file:\n",
    "        timestamp = datetime.datetime.now().strftime('%Y-%m-%d %H:%M:%S')\n",
    "        log_file.write(f'Timestamp: {timestamp}\\n')\n",
    "        log_file.write(f'Source: {source}\\n')\n",
    "        log_file.write(f'Command: {command}\\n')\n",
    "        log_file.write(f'Output:\\n{output}\\n')\n",
    "        log_file.write('=' * 70 + '\\n')\n"
   ]
  },
  {
   "cell_type": "code",
   "execution_count": null,
   "metadata": {},
   "outputs": [],
   "source": [
    "# Run OS Commands\n",
    "def command_exe_win(command):\n",
    "    process = subprocess.Popen(command, shell=True, stdout=subprocess.PIPE, stderr=subprocess.PIPE)\n",
    "    out, err = process.communicate()\n",
    "    if process.returncode == 0:\n",
    "        #display(Markdown(f\"```\\n{out.decode('utf-8')}\\n```\"))\n",
    "        output = out.decode('utf-8').strip()\n",
    "        _func_append_to_log('Local', command, output)\n",
    "        return output\n",
    "    else:\n",
    "        error_output = err.decode('utf-8')\n",
    "        _func_append_to_log('Local', command, error_output)\n",
    "        return error_output"
   ]
  },
  {
   "cell_type": "code",
   "execution_count": null,
   "metadata": {},
   "outputs": [],
   "source": [
    "#VM Config\n",
    "_var_vm_host = '192.168.138.130'\n",
    "_var_vm_port = 22\n",
    "_var_vm_username = 'bloodvault@kalidev'\n",
    "_var_vm_password = ''\n",
    "_var_vm_key = 'Keys/kali_dev'\n"
   ]
  },
  {
   "cell_type": "code",
   "execution_count": null,
   "metadata": {},
   "outputs": [],
   "source": [
    "# Run VM Commands\n",
    "import paramiko\n",
    "\n",
    "def _func_command_exe_vm(command):\n",
    "    # Initialize the SSH client\n",
    "    client = paramiko.SSHClient()\n",
    "    client.set_missing_host_key_policy(paramiko.AutoAddPolicy())\n",
    "    \n",
    "    # Connect to the VM\n",
    "    if _var_vm_key:\n",
    "        key = paramiko.RSAKey.from_private_key_file(_var_vm_key, None)\n",
    "        client.connect(hostname=_var_vm_host, port=_var_vm_port, username=_var_vm_username, pkey=key)\n",
    "    else:\n",
    "        client.connect(hostname=_var_vm_host, port=_var_vm_port, username=_var_vm_username, password=_var_vm_password)\n",
    "    \n",
    "    # Execute the command\n",
    "    stdin, stdout, stderr = client.exec_command(command)\n",
    "    output = stdout.read().decode('utf-8')\n",
    "    error = stderr.read().decode('utf-8')\n",
    "    \n",
    "    # Close the SSH connection\n",
    "    client.close()\n",
    "    if error == '':\n",
    "        _func_append_to_log('VM', command, output)\n",
    "        return output\n",
    "    else:\n",
    "        _func_append_to_log('VM', command, f'Error: {error}')\n",
    "        return output, error"
   ]
  },
  {
   "cell_type": "markdown",
   "metadata": {},
   "source": [
    "## Environment Check\n"
   ]
  },
  {
   "cell_type": "code",
   "execution_count": null,
   "metadata": {},
   "outputs": [],
   "source": [
    "# Find External IP\n",
    "cell_executed = False\n",
    "if not cell_executed:\n",
    "    command_ext_ip = f'curl ip.beer'\n",
    "    ext_ip = command_exe_win(command_ext_ip)\n",
    "    print(ext_ip)\n",
    "    cell_executed = True\n",
    "else:\n",
    "    pass"
   ]
  },
  {
   "cell_type": "markdown",
   "metadata": {},
   "source": [
    "## Scope"
   ]
  },
  {
   "cell_type": "code",
   "execution_count": null,
   "metadata": {},
   "outputs": [],
   "source": [
    "# Alives Check\n",
    "command_ping = f'ping -n 4 {_var_target_ip}'\n",
    "ping = command_exe_win(command_ping)\n",
    "print(ping)"
   ]
  },
  {
   "cell_type": "code",
   "execution_count": null,
   "metadata": {},
   "outputs": [],
   "source": [
    "# DNS Lookup\n",
    "command_dns_lookup = f'nslookup {ext_ip}'\n",
    "dns = command_exe_win(command_dns_lookup)\n",
    "print(dns)"
   ]
  },
  {
   "cell_type": "code",
   "execution_count": null,
   "metadata": {},
   "outputs": [],
   "source": [
    "# Hostname from VM\n",
    "command_getvmhostname = f'hostname'\n",
    "_var_vm_hostname = _func_command_exe_vm(command_getvmhostname)\n",
    "print(_var_vm_hostname)"
   ]
  }
 ],
 "metadata": {
  "kernelspec": {
   "display_name": "Python 3",
   "language": "python",
   "name": "python3"
  },
  "language_info": {
   "codemirror_mode": {
    "name": "ipython",
    "version": 3
   },
   "file_extension": ".py",
   "mimetype": "text/x-python",
   "name": "python",
   "nbconvert_exporter": "python",
   "pygments_lexer": "ipython3",
   "version": "3.11.3"
  }
 },
 "nbformat": 4,
 "nbformat_minor": 2
}
