{
 "cells": [
  {
   "cell_type": "markdown",
   "metadata": {},
   "source": [
    "# Infrax Setup\n",
    "This notebook contains commands and procedures for conducting initial reconnaissance on a target. Customize the variables in templates.py according to your specific requirements.\n",
    "\n",
    "v1.2.0"
   ]
  },
  {
   "cell_type": "markdown",
   "metadata": {},
   "source": [
    "## Global Variables/Commands"
   ]
  },
  {
   "cell_type": "code",
   "execution_count": 1,
   "metadata": {},
   "outputs": [],
   "source": [
    "# Imports\n",
    "import templates"
   ]
  },
  {
   "cell_type": "code",
   "execution_count": 2,
   "metadata": {},
   "outputs": [],
   "source": [
    "# Variables\n",
    "#TODO\n",
    "#vm_ip\n",
    "#cs_password\n",
    "#cs_c2profilelocation\n",
    "#domain_name\n",
    "#redir_IP"
   ]
  },
  {
   "cell_type": "markdown",
   "metadata": {},
   "source": [
    "### Action Template"
   ]
  },
  {
   "cell_type": "code",
   "execution_count": 3,
   "metadata": {},
   "outputs": [],
   "source": [
    "# Action Template\n",
    "\n",
    "#force_run = False\n",
    "\n",
    "#cmd_cache = ''\n",
    "#cmd_syntax = ''\n",
    "#cmd_os = ''\n",
    "\n",
    "#output = templates.cache_command_output(cmd_cache, force_run, cmd_run)\n",
    "\n",
    "#print(output)"
   ]
  },
  {
   "cell_type": "markdown",
   "metadata": {},
   "source": [
    "## Environment Check\n"
   ]
  },
  {
   "cell_type": "code",
   "execution_count": 4,
   "metadata": {},
   "outputs": [
    {
     "name": "stdout",
     "output_type": "stream",
     "text": [
      "[+] Cache not found or execution forced, executing command.\n",
      "72.193.145.223\n"
     ]
    }
   ],
   "source": [
    "# Find External IP\n",
    "force_run = True\n",
    "\n",
    "cmd_cache = 'ext_ip'\n",
    "cmd_os = 'win'\n",
    "cmd_syntax = 'curl ip.beer'\n",
    "\n",
    "ext_ip = templates.cache_command_output(cmd_cache, force_run, cmd_os, cmd_syntax).strip()\n",
    "\n",
    "\n",
    "print(ext_ip)"
   ]
  },
  {
   "cell_type": "markdown",
   "metadata": {},
   "source": [
    "## Scope"
   ]
  },
  {
   "cell_type": "code",
   "execution_count": 5,
   "metadata": {},
   "outputs": [
    {
     "name": "stdout",
     "output_type": "stream",
     "text": [
      "[*] Loading data from cache.\n",
      "Pinging 127.0.0.1 with 32 bytes of data:\n",
      "Reply from 127.0.0.1: bytes=32 time<1ms TTL=128\n",
      "Reply from 127.0.0.1: bytes=32 time<1ms TTL=128\n",
      "Reply from 127.0.0.1: bytes=32 time<1ms TTL=128\n",
      "Reply from 127.0.0.1: bytes=32 time<1ms TTL=128\n",
      "\n",
      "Ping statistics for 127.0.0.1:\n",
      "    Packets: Sent = 4, Received = 4, Lost = 0 (0% loss),\n",
      "Approximate round trip times in milli-seconds:\n",
      "    Minimum = 0ms, Maximum = 0ms, Average = 0ms\n"
     ]
    }
   ],
   "source": [
    "# Alives Check\n",
    "force_run = False\n",
    "\n",
    "cmd_cache = f'ping_{templates.var_target_ip}'\n",
    "cmd_syntax = f'ping -n 4 {templates.var_target_ip}' \n",
    "cmd_os = 'win'\n",
    "\n",
    "ping = templates.cache_command_output(cmd_cache, force_run, cmd_os, cmd_syntax)\n",
    "\n",
    "print(ping)"
   ]
  },
  {
   "cell_type": "code",
   "execution_count": 6,
   "metadata": {},
   "outputs": [
    {
     "name": "stdout",
     "output_type": "stream",
     "text": [
      "[+] Cache not found or execution forced, executing command.\n",
      "Server:  dns.google\n",
      "Address:  8.8.8.8\n",
      "\n",
      "Name:    ip72-193-145-223.lv.lv.cox.net\n",
      "Address:  72.193.145.223\n"
     ]
    }
   ],
   "source": [
    "# DNS Lookup\n",
    "force_run = True\n",
    "cmd_cache = f'nslookup_{ext_ip}'\n",
    "cmd_syntax = f'nslookup {ext_ip}'\n",
    "cmd_os = 'win'\n",
    "\n",
    "dns = templates.cache_command_output(cmd_cache, force_run, cmd_os, cmd_syntax)\n",
    "\n",
    "print(dns)"
   ]
  },
  {
   "cell_type": "code",
   "execution_count": 7,
   "metadata": {},
   "outputs": [
    {
     "name": "stdout",
     "output_type": "stream",
     "text": [
      "[*] Skipping cell execution\n",
      "None\n"
     ]
    }
   ],
   "source": [
    "# Hostname from VM\n",
    "force_run = 'skip'\n",
    "\n",
    "cmd_cache = 'vmhostname'\n",
    "cmd_syntax = f'hostname'\n",
    "cmd_os = 'vm'\n",
    "\n",
    "var_vm_hostname = templates.cache_command_output(cmd_cache, force_run, cmd_os, cmd_syntax)\n",
    "print(var_vm_hostname)\n"
   ]
  },
  {
   "cell_type": "markdown",
   "metadata": {},
   "source": [
    "## Cobalt Strike\n",
    "[Cobalt Strike Malleable C2 Profile](https://hstechdocs.helpsystems.com/manuals/cobaltstrike/current/userguide/content/topics/malleable-c2_main.htm?cshid=1062)"
   ]
  },
  {
   "cell_type": "code",
   "execution_count": 8,
   "metadata": {},
   "outputs": [],
   "source": [
    "# Generate CS Malleable C2 Profile\n",
    "\n",
    "#force_run = False\n",
    "\n",
    "#cmd_cache = ''\n",
    "#cmd_syntax = ''\n",
    "#cmd_os = ''\n",
    "\n",
    "#output = templates.cache_command_output(cmd_cache, force_run, cmd_run)\n",
    "\n",
    "#print(output)"
   ]
  },
  {
   "cell_type": "code",
   "execution_count": 9,
   "metadata": {},
   "outputs": [],
   "source": [
    "# Start CobaltStrike Server\n",
    "\n",
    "#force_run = False\n",
    "\n",
    "cmd_cache = 'cobaltstrike'\n",
    "# Write a way to do this all in one command, or just use multiple\n",
    "# Find cobalstrike teamserver file and run\n",
    "#cmd_syntax = 'locate cobaltstrike | grep XXX | grep teamserver'\n",
    "#cmd_syntax = 'teamserver {vm_ip} {cs_password} {cs_c2profilelocation}'\n",
    "\n",
    "#cmd_syntax = 'iptables -A INPUT -p tcp --dport 443 ! -s {redir_IP} -j DROP && iptables -A INPUT -p tcp --dport 80 ! -s {redir_IP} -j DROP && iptables-save'\n",
    "cmd_os = 'vm'\n",
    "\n",
    "#output = templates.cache_command_output(cmd_cache, force_run, cmd_run)\n",
    "\n",
    "#print(output)"
   ]
  },
  {
   "cell_type": "markdown",
   "metadata": {},
   "source": [
    "## Establish Domain\n",
    "\n",
    "### Types of Domain Names\n",
    "- Phishing email domain\n",
    "- Phishing website domain\n",
    "- Payload hosting domain\n",
    "- C2 domain\n",
    "- Redirector domain\n",
    "\n",
    "### Choosing Domain Name\n",
    "- [JJonahNameson](https://github.com/blue-armory/JJonahNameson)\n",
    "\n",
    "### Domain Hosting Services\n",
    "- GoDaddy\n",
    "- Namecheap\n",
    "\n",
    "**NOTE: Purchase 'whois' guard protection to protect against information leakage**\n",
    "\n",
    "### Domain Categorization\n",
    "*TODO* Put sites in order of priority  \n",
    "- [Symantec](https://sitereview.bluecoat.com/#/)\n",
    "- [Zscaler](https://zulu.zscaler.com/)\n",
    "- [Websense](https://www.websense.com/assets/html/ai-widget/base.html)\n",
    "- [Trellix](https://trustedsource.org/en/feedback/url?action=checksingle)\n",
    "- [Barracuda](https://www.barracudacentral.org/lookups)\n",
    "- [Trend Micro](https://global.sitesafety.trendmicro.com/index.php)\n",
    "- [Sophos](https://support.sophos.com/support/s/filesubmission?language=en_US)\n",
    "- [Trustwave](https://support.trustwave.com/wfdbcheck.asp)\n",
    "- [BrightCloud](https://www.brightcloud.com/tools/change-request.php) *Requires email address*\n",
    "- [Check Point](https://urlcat.checkpoint.com/urlcat/)\n",
    "- [Zvelo](https://tools.zvelo.com/)\n",
    "- [Palo Alto](https://urlfiltering.paloaltonetworks.com/query/)\n",
    "- [Fortiguard](https://www.fortiguard.com/webfilter)\n",
    "- [IP Quality Score](https://www.ipqualityscore.com/user/registration/completed) *Free site, API option*\n",
    "- [WhoisXMLAPI](https://website-categorization.whoisxmlapi.com/api/documentation/v3/making-requests) *Free site, API option, limited free requests*\n",
    "\n",
    "**Also check recently [expired domains](https://expireddomains.net/backorder-expired-domains)**  \n",
    "\n",
    "\n",
    "The point of this section is to ensure the externally facing resources that are established per engagement are categorized as not malicious"
   ]
  },
  {
   "cell_type": "code",
   "execution_count": 26,
   "metadata": {},
   "outputs": [],
   "source": [
    "# Domain Categorization Check\n",
    "\n",
    "force_run = True\n",
    "\n",
    "#TODO Recreate Bluecoat HTTP traffic, pull JSESSIONID, XSRF-TOKEN, GCLB to store in cookie, POST request with saved 'key' and 'phrase'\n",
    "## Funny enough, this is actually how CatMyFish works, just need to pull a little functionality out\n",
    "## DomainCat does this most verbosely, and probably better, adding reference: https://github.com/l0gan/domainCat\n",
    "if force_run:\n",
    "    pass\n",
    "elif force_run == 'skip':\n",
    "    print('[*] Skipping cell execution')\n",
    "else:\n",
    "    #TODO Implement caching function for builtin python scripts\n",
    "    print('[*] No caching for builtin Python yet, so here\\'s nothing until you set \\'force_run=True\\'')\n",
    "    \n",
    "\n",
    "## Via CatMyFish\n",
    "##TODO check if CatMyFish is installed, and pip install if not\n",
    "#force_run = False\n",
    "\n",
    "#cmd_cache = 'catmyfish'\n",
    "# Write a way to do this all in one command, or just use multiple\n",
    "#cmd_syntax = 'python CatMyFish {domain_name}'\n",
    "#cmd_os = 'vm'\n",
    "\n",
    "#output = templates.cache_command_output(cmd_cache, force_run, cmd_run)\n",
    "\n",
    "#print(output)"
   ]
  },
  {
   "cell_type": "markdown",
   "metadata": {},
   "source": [
    "## Redirector Setup\n",
    "\n",
    "### Digital Ocean\n",
    "*INTERNAL*\n",
    "\n",
    "### HTTPS/Apache\n",
    "*TODO*"
   ]
  },
  {
   "cell_type": "markdown",
   "metadata": {},
   "source": [
    "## Payload Hosting Setup\n",
    "*TODO*"
   ]
  }
 ],
 "metadata": {
  "kernelspec": {
   "display_name": "Python 3",
   "language": "python",
   "name": "python3"
  },
  "language_info": {
   "codemirror_mode": {
    "name": "ipython",
    "version": 3
   },
   "file_extension": ".py",
   "mimetype": "text/x-python",
   "name": "python",
   "nbconvert_exporter": "python",
   "pygments_lexer": "ipython3",
   "version": "3.11.3"
  }
 },
 "nbformat": 4,
 "nbformat_minor": 2
}
