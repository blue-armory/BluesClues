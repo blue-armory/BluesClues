{
 "cells": [
  {
   "cell_type": "markdown",
   "metadata": {},
   "source": [
    "# Page Template\n",
    "This notebook contains commands and procedures necessary for all new pages.\n",
    "\n",
    "v.1.2.1"
   ]
  },
  {
   "cell_type": "markdown",
   "metadata": {},
   "source": [
    "## Global Variables/Commands"
   ]
  },
  {
   "cell_type": "code",
   "execution_count": null,
   "metadata": {},
   "outputs": [],
   "source": [
    "# Imports\n",
    "import templates"
   ]
  },
  {
   "cell_type": "markdown",
   "metadata": {},
   "source": [
    "### Action Template"
   ]
  },
  {
   "cell_type": "code",
   "execution_count": null,
   "metadata": {},
   "outputs": [],
   "source": [
    "# Action Template\n",
    "\n",
    "#force_run = False\n",
    "\n",
    "#cmd_cache = ''\n",
    "#cmd_syntax = ''\n",
    "#cmd_os = ''\n",
    "\n",
    "#output = templates.cache_command_output(cmd_cache, force_run, cmd_os, cmd_run)\n",
    "\n",
    "#print(output)"
   ]
  }
 ],
 "metadata": {
  "language_info": {
   "name": "python"
  }
 },
 "nbformat": 4,
 "nbformat_minor": 2
}
