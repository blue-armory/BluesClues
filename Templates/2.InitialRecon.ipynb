{
 "cells": [
  {
   "cell_type": "markdown",
   "metadata": {},
   "source": [
    "# Page Template\n",
    "This notebook contains commands and procedures necessary for all new pages.\n",
    "\n",
    "v1.2.0"
   ]
  },
  {
   "cell_type": "markdown",
   "metadata": {},
   "source": [
    "## Global Variables/Commands"
   ]
  },
  {
   "cell_type": "code",
   "execution_count": 1,
   "metadata": {},
   "outputs": [],
   "source": [
    "# Imports\n",
    "import templates"
   ]
  },
  {
   "cell_type": "code",
   "execution_count": 2,
   "metadata": {},
   "outputs": [],
   "source": [
    "# Variables\n",
    "#target_domain"
   ]
  },
  {
   "cell_type": "markdown",
   "metadata": {},
   "source": [
    "### Action Template"
   ]
  },
  {
   "cell_type": "code",
   "execution_count": 3,
   "metadata": {},
   "outputs": [],
   "source": [
    "# Action Template\n",
    "\n",
    "#force_run = False\n",
    "\n",
    "#cmd_cache = ''\n",
    "#cmd_syntax = ''\n",
    "#cmd_os = ''\n",
    "\n",
    "#output = templates.cache_command_output(cmd_cache, force_run, cmd_run)\n",
    "\n",
    "#print(output)"
   ]
  },
  {
   "cell_type": "markdown",
   "metadata": {},
   "source": [
    "## OSINT Recon"
   ]
  },
  {
   "cell_type": "code",
   "execution_count": null,
   "metadata": {},
   "outputs": [],
   "source": [
    "# Whois\n",
    "#TODO Use requests to query whois site: https://whois.arin.net/ui/\n",
    "#TODO Add info recieved into 'loot' directory or page"
   ]
  },
  {
   "cell_type": "markdown",
   "metadata": {},
   "source": [
    "### Organizational Data\n",
    "- Organizational Structure\n",
    "  - Subordinate, senior and lateral organizations\n",
    "  - Subsidaries\n",
    "  - Public Presence\n",
    "  - Organizational Information\n",
    "- Organizational IT Data\n",
    "  - Repository commit history\n",
    "  - Email addresses or email address naming convention\n",
    "  - Files containing sensitive data and/or metadata - version numbers, applications, process/procedures, etc.\n",
    "- Data in External Sources\n",
    "  - Financials that indicate IT spending (security software purchases, etc.)\n",
    "  - Personnel on social media\n",
    "  - Customer technologies in resumes, newsgroups, LinkedIn skills, etc.\n",
    "\n",
    "**Add to Loot**\n",
    "- Company mission\n",
    "- Current events related to the company - acquisitions, conferences, etc.\n",
    "- Points of contact\n",
    "- Blogs (company and employee's personal)\n",
    "- Backend infrastructure\n",
    "- Financial and business information\n",
    "- Job descriptions for IT positions\n",
    "- Vendor names"
   ]
  },
  {
   "cell_type": "markdown",
   "metadata": {},
   "source": [
    "### Github/Pastebin Scraping\n",
    "- [Truffle Hog](https://github.com/trufflesecurity/trufflehog)\n",
    "- [Git Harvester](https://github.com/metac0rtex/GitHarvester)\n",
    "- [TrashPanda - OSINT Bot](https://got-hacked.wtf/)"
   ]
  }
 ],
 "metadata": {
  "kernelspec": {
   "display_name": "Python 3",
   "language": "python",
   "name": "python3"
  },
  "language_info": {
   "codemirror_mode": {
    "name": "ipython",
    "version": 3
   },
   "file_extension": ".py",
   "mimetype": "text/x-python",
   "name": "python",
   "nbconvert_exporter": "python",
   "pygments_lexer": "ipython3",
   "version": "3.11.3"
  }
 },
 "nbformat": 4,
 "nbformat_minor": 2
}
