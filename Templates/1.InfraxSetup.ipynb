{
 "cells": [
  {
   "cell_type": "markdown",
   "metadata": {},
   "source": [
    "# Infrax Setup\n",
    "This notebook contains commands and procedures for setting up and configuring infrastructure.\n",
    "\n",
    "v1.2.2"
   ]
  },
  {
   "cell_type": "markdown",
   "metadata": {},
   "source": [
    "### Clear Cache and Outputs"
   ]
  },
  {
   "cell_type": "code",
   "execution_count": null,
   "metadata": {},
   "outputs": [],
   "source": [
    "# Clear Cache and Outputs (for development purposes)\n",
    "import os, shutil\n",
    "\n",
    "cache_dir = 'Cache'\n",
    "loot_dir = 'Loot'\n",
    "logs_dir = 'Logs'\n",
    "\n",
    "def clear_directory_contents(path):\n",
    "    if os.path.exists(path) and os.path.isdir(path):\n",
    "        for filename in os.listdir(path):\n",
    "            if os.path.isdir(f'Loot\\{filename}'):\n",
    "                for subdir_filename in os.listdir(f'Loot\\{filename}'):\n",
    "                    os.unlink(f'Loot\\{filename}\\{subdir_filename}')\n",
    "            else:\n",
    "                file_path = os.path.join(path, filename)\n",
    "                try:\n",
    "                    if os.path.isfile(file_path) or os.path.islink(file_path):\n",
    "                        pass\n",
    "                        os.unlink(file_path)\n",
    "                except Exception as e:\n",
    "                    print(f'Failed to delete {file_path}. Reason: {e}')\n",
    "\n",
    "\n",
    "# Clear temporary project contents\n",
    "clear_directory_contents(cache_dir)\n",
    "clear_directory_contents(loot_dir)\n",
    "clear_directory_contents(logs_dir)\n",
    "\n",
    "print('Cache, Loot, and Logs have been cleared.')"
   ]
  },
  {
   "cell_type": "markdown",
   "metadata": {},
   "source": [
    "### Action Template"
   ]
  },
  {
   "cell_type": "code",
   "execution_count": null,
   "metadata": {},
   "outputs": [],
   "source": [
    "# Action Template\n",
    "#import templates\n",
    "#force_run = False\n",
    "\n",
    "#cmd_cache = ''\n",
    "#cmd_syntax = ''\n",
    "#cmd_os = ''\n",
    "\n",
    "#output = templates.cache_command_output(cmd_cache, force_run, cmd_os, cmd_syntax)\n",
    "\n",
    "#print(output)"
   ]
  },
  {
   "cell_type": "markdown",
   "metadata": {},
   "source": [
    "## Environment Check\n"
   ]
  },
  {
   "cell_type": "code",
   "execution_count": null,
   "metadata": {},
   "outputs": [],
   "source": [
    "# Find External IP\n",
    "import templates\n",
    "force_run = False\n",
    "\n",
    "cmd_cache = 'ext_ip'\n",
    "cmd_os = 'vm'\n",
    "cmd_syntax = 'curl ip.beer'\n",
    "\n",
    "ext_ip = templates.cache_command_output(cmd_cache, force_run, cmd_os, cmd_syntax).strip()\n",
    "\n",
    "\n",
    "print(ext_ip)"
   ]
  },
  {
   "cell_type": "code",
   "execution_count": null,
   "metadata": {},
   "outputs": [],
   "source": [
    "# Make VM Loot Dir\n",
    "import templates\n",
    "force_run = True\n",
    "\n",
    "cmd_cache = 'create_vm_lootdir'\n",
    "cmd_os = 'vm'\n",
    "#TODO: Need to ensure all tool outputs are captured here\n",
    "createdir_syntax = f'mkdir -p {templates.var_vm_lootdir}/nmap'\n",
    "\n",
    "output = templates.cache_command_output(cmd_cache, force_run, cmd_os, createdir_syntax)\n",
    "\n",
    "checkdir_syntax = f'find {templates.var_vm_lootdir}'\n",
    "checkdir = templates.cache_command_output(cmd_cache, force_run, cmd_os, checkdir_syntax)\n",
    "\n",
    "print(checkdir)"
   ]
  },
  {
   "cell_type": "markdown",
   "metadata": {},
   "source": [
    "## Connectivity Check\n",
    "The goal here is to ensure connectivity between established infrastructure and target and ensure infrastructure is advertising correct naming schema"
   ]
  },
  {
   "cell_type": "code",
   "execution_count": null,
   "metadata": {},
   "outputs": [],
   "source": [
    "# Connectivity Check\n",
    "#TODO: This action should move and incorporate established infrax\n",
    "import templates\n",
    "force_run = False\n",
    "\n",
    "cmd_cache = f'ping_{templates.var_target_ip}'\n",
    "cmd_syntax = f'ping -n 4 {templates.var_target_ip}' \n",
    "cmd_os = 'win'\n",
    "\n",
    "ping = templates.cache_command_output(cmd_cache, force_run, cmd_os, cmd_syntax)\n",
    "\n",
    "print(ping)"
   ]
  },
  {
   "cell_type": "code",
   "execution_count": null,
   "metadata": {},
   "outputs": [],
   "source": [
    "# DNS Lookup\n",
    "force_run = False\n",
    "cmd_cache = f'nslookup_{ext_ip}'\n",
    "cmd_syntax = f'nslookup {ext_ip}'\n",
    "cmd_os = 'win'\n",
    "\n",
    "dns = templates.cache_command_output(cmd_cache, force_run, cmd_os, cmd_syntax)\n",
    "\n",
    "print(dns)"
   ]
  },
  {
   "cell_type": "code",
   "execution_count": null,
   "metadata": {},
   "outputs": [],
   "source": [
    "# Hostname from VM\n",
    "force_run = False\n",
    "\n",
    "cmd_cache = 'vmhostname'\n",
    "cmd_syntax = f'hostname'\n",
    "cmd_os = 'vm'\n",
    "\n",
    "var_vm_hostname = templates.cache_command_output(cmd_cache, force_run, cmd_os, cmd_syntax)\n",
    "print(var_vm_hostname)\n"
   ]
  },
  {
   "cell_type": "markdown",
   "metadata": {},
   "source": [
    "## Cobalt Strike\n",
    "[Cobalt Strike Malleable C2 Profile](https://hstechdocs.helpsystems.com/manuals/cobaltstrike/current/userguide/content/topics/malleable-c2_main.htm?cshid=1062)"
   ]
  },
  {
   "cell_type": "code",
   "execution_count": null,
   "metadata": {},
   "outputs": [],
   "source": [
    "# Generate CS Malleable C2 Profile\n",
    "\n",
    "#force_run = False\n",
    "\n",
    "#cmd_cache = ''\n",
    "#cmd_syntax = ''\n",
    "#cmd_os = ''\n",
    "\n",
    "#output = templates.cache_command_output(cmd_cache, force_run, cmd_run)\n",
    "\n",
    "#print(output)"
   ]
  },
  {
   "cell_type": "code",
   "execution_count": null,
   "metadata": {},
   "outputs": [],
   "source": [
    "# Start CobaltStrike Server\n",
    "\n",
    "#force_run = False\n",
    "\n",
    "cmd_cache = 'cobaltstrike'\n",
    "# Write a way to do this all in one command, or just use multiple\n",
    "# Find cobalstrike teamserver file and run\n",
    "#cmd_syntax = 'locate cobaltstrike | grep XXX | grep teamserver'\n",
    "#cmd_syntax = 'teamserver {vm_ip} {cs_password} {cs_c2profilelocation}'\n",
    "\n",
    "#cmd_syntax = 'iptables -A INPUT -p tcp --dport 443 ! -s {redir_IP} -j DROP && iptables -A INPUT -p tcp --dport 80 ! -s {redir_IP} -j DROP && iptables-save'\n",
    "cmd_os = 'vm'\n",
    "\n",
    "#output = templates.cache_command_output(cmd_cache, force_run, cmd_run)\n",
    "\n",
    "#print(output)"
   ]
  },
  {
   "cell_type": "markdown",
   "metadata": {},
   "source": [
    "## Establish Domain\n",
    "\n",
    "### Types of Domain Names\n",
    "- Phishing email domain\n",
    "- Phishing website domain\n",
    "- Payload hosting domain\n",
    "- C2 domain\n",
    "- Redirector domain\n",
    "\n",
    "### Choosing Domain Name\n",
    "- [JJonahNameson](https://github.com/blue-armory/JJonahNameson)\n",
    "\n",
    "### Domain Hosting Services\n",
    "- GoDaddy\n",
    "- Namecheap\n",
    "\n",
    "**NOTE: Purchase 'whois' guard protection to protect against information leakage**\n",
    "\n",
    "### Domain Categorization\n",
    "*TODO* Put sites in order of priority  \n",
    "- [Symantec](https://sitereview.bluecoat.com/#/)\n",
    "- [Zscaler](https://zulu.zscaler.com/)\n",
    "- [Websense](https://www.websense.com/assets/html/ai-widget/base.html)\n",
    "- [Trellix](https://trustedsource.org/en/feedback/url?action=checksingle)\n",
    "- [Barracuda](https://www.barracudacentral.org/lookups)\n",
    "- [Trend Micro](https://global.sitesafety.trendmicro.com/index.php)\n",
    "- [Sophos](https://support.sophos.com/support/s/filesubmission?language=en_US)\n",
    "- [Trustwave](https://support.trustwave.com/wfdbcheck.asp)\n",
    "- [BrightCloud](https://www.brightcloud.com/tools/change-request.php) *Requires email address*\n",
    "- [Check Point](https://urlcat.checkpoint.com/urlcat/)\n",
    "- [Zvelo](https://tools.zvelo.com/)\n",
    "- [Palo Alto](https://urlfiltering.paloaltonetworks.com/query/)\n",
    "- [Fortiguard](https://www.fortiguard.com/webfilter)\n",
    "- [IP Quality Score](https://www.ipqualityscore.com/user/registration/completed) *Free site, API option*\n",
    "- [WhoisXMLAPI](https://website-categorization.whoisxmlapi.com/api/documentation/v3/making-requests) *Free site, API option, limited free requests*\n",
    "\n",
    "**Also check recently [expired domains](https://expireddomains.net/backorder-expired-domains)**  \n",
    "\n",
    "\n",
    "The point of this section is to ensure the externally facing resources that are established per engagement are categorized as not malicious"
   ]
  },
  {
   "cell_type": "code",
   "execution_count": null,
   "metadata": {},
   "outputs": [],
   "source": [
    "# Domain Categorization Check\n",
    "\n",
    "force_run = 'skip'\n",
    "\n",
    "#TODO Recreate Bluecoat HTTP traffic, pull JSESSIONID, XSRF-TOKEN, GCLB to store in cookie, POST request with saved 'key' and 'phrase'\n",
    "## Funny enough, this is actually how CatMyFish works, just need to pull a little functionality out\n",
    "## DomainCat does this most verbosely, and probably better, adding reference: https://github.com/l0gan/domainCat\n",
    "if force_run == 'skip':\n",
    "    print('[*] Skipping cell execution')\n",
    "elif force_run == True:\n",
    "    pass\n",
    "else:\n",
    "    #TODO Implement caching function for builtin python scripts\n",
    "    print('[*] No caching for builtin Python yet, so here\\'s nothing until you set \\'force_run=True\\'')\n",
    "    \n",
    "\n",
    "## Via CatMyFish\n",
    "##TODO check if CatMyFish is installed, and pip install if not\n",
    "#force_run = False\n",
    "\n",
    "#cmd_cache = 'catmyfish'\n",
    "# Write a way to do this all in one command, or just use multiple\n",
    "#cmd_syntax = 'python CatMyFish {domain_name}'\n",
    "#cmd_os = 'vm'\n",
    "\n",
    "#output = templates.cache_command_output(cmd_cache, force_run, cmd_run)\n",
    "\n",
    "#print(output)"
   ]
  },
  {
   "cell_type": "markdown",
   "metadata": {},
   "source": [
    "## Redirector Setup\n",
    "\n",
    "### Digital Ocean\n",
    "*TODO*\n",
    "\n",
    "### HTTPS/Apache\n",
    "*TODO*"
   ]
  },
  {
   "cell_type": "markdown",
   "metadata": {},
   "source": [
    "## Payload Hosting Setup\n",
    "*TODO*"
   ]
  }
 ],
 "metadata": {
  "kernelspec": {
   "display_name": "Python 3",
   "language": "python",
   "name": "python3"
  },
  "language_info": {
   "codemirror_mode": {
    "name": "ipython",
    "version": 3
   },
   "file_extension": ".py",
   "mimetype": "text/x-python",
   "name": "python",
   "nbconvert_exporter": "python",
   "pygments_lexer": "ipython3",
   "version": "3.11.3"
  }
 },
 "nbformat": 4,
 "nbformat_minor": 2
}
