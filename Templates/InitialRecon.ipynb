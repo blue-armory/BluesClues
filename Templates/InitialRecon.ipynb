{
 "cells": [
  {
   "cell_type": "markdown",
   "metadata": {},
   "source": [
    "# Initial Recon\n",
    "This notebook contains commands and procedures for conducting initial reconnaissance on a target. Customize the variables below according to your specific requirements.\n"
   ]
  },
  {
   "cell_type": "markdown",
   "metadata": {},
   "source": [
    "## Global Variables/Commands"
   ]
  },
  {
   "cell_type": "code",
   "execution_count": 24,
   "metadata": {},
   "outputs": [],
   "source": [
    "# Imports\n",
    "import os\n",
    "import subprocess\n",
    "import datetime\n",
    "from IPython.display import display, Markdown\n",
    "import paramiko\n",
    "import pickle"
   ]
  },
  {
   "cell_type": "code",
   "execution_count": 25,
   "metadata": {},
   "outputs": [],
   "source": [
    "# Global Variables\n",
    "_var_target_ip = '127.0.0.1'\n",
    "_var_assess_name = 'TestAssess1'\n",
    "_var_log_location = f'Logs/{_var_assess_name}'"
   ]
  },
  {
   "cell_type": "code",
   "execution_count": 26,
   "metadata": {},
   "outputs": [],
   "source": [
    "# Append to Log\n",
    "if not os.path.exists(_var_log_location):\n",
    "    open(f'{_var_log_location}.txt', 'a').close()\n",
    "    \n",
    "def _func_append_to_log(source, command, output):\n",
    "    with open(f'{_var_log_location}.txt', 'a') as log_file:\n",
    "        timestamp = datetime.datetime.now().strftime('%Y-%m-%d %H:%M:%S')\n",
    "        log_file.write(f'Timestamp: {timestamp}\\n')\n",
    "        log_file.write(f'Source: {source}\\n')\n",
    "        log_file.write(f'Command: {command}\\n')\n",
    "        log_file.write(f'Output:\\n{output}\\n')\n",
    "        log_file.write('=' * 70 + '\\n')\n"
   ]
  },
  {
   "cell_type": "code",
   "execution_count": 27,
   "metadata": {},
   "outputs": [],
   "source": [
    "#VM Config\n",
    "_var_vm_host = '192.168.138.130'\n",
    "_var_vm_port = 22\n",
    "_var_vm_username = 'bloodvault'\n",
    "_var_vm_password = ''\n",
    "_var_vm_key = 'Keys/kali_dev'\n"
   ]
  },
  {
   "cell_type": "code",
   "execution_count": 28,
   "metadata": {},
   "outputs": [],
   "source": [
    "# Run VM Commands\n",
    "def _command_exe_vm(command):\n",
    "    # Initialize the SSH client\n",
    "    client = paramiko.SSHClient()\n",
    "    client.set_missing_host_key_policy(paramiko.AutoAddPolicy())\n",
    "    \n",
    "    # Connect to the VM\n",
    "    if _var_vm_key:\n",
    "        key = paramiko.RSAKey.from_private_key_file(_var_vm_key)\n",
    "        client.connect(hostname=_var_vm_host, port=_var_vm_port, username=_var_vm_username, pkey=key)\n",
    "    else:\n",
    "        client.connect(hostname=_var_vm_host, port=_var_vm_port, username=_var_vm_username, password=_var_vm_password)\n",
    "    \n",
    "    # Execute the command\n",
    "    stdin, stdout, stderr = client.exec_command(command)\n",
    "    output = stdout.read().decode('utf-8')\n",
    "    error = stderr.read().decode('utf-8')\n",
    "    \n",
    "    # Close the SSH connection\n",
    "    client.close()\n",
    "    #TODO Returning errors looks like trash in output, if added in return\n",
    "    #if error == '':\n",
    "    #    _func_append_to_log('VM', command, output)\n",
    "    #    return output\n",
    "    #else:\n",
    "    #    _func_append_to_log('VM', command, f'Error: {error}')\n",
    "    #    return output\n",
    "    _func_append_to_log('VM', command, output)\n",
    "    return output"
   ]
  },
  {
   "cell_type": "code",
   "execution_count": 29,
   "metadata": {},
   "outputs": [],
   "source": [
    "# Run Windows Commands Locally\n",
    "def _command_exe_win(command):\n",
    "    process = subprocess.Popen(command, shell=True, stdout=subprocess.PIPE, stderr=subprocess.PIPE)\n",
    "    out, err = process.communicate()\n",
    "    if process.returncode == 0:\n",
    "        output = out.decode('utf-8').strip()\n",
    "    else:\n",
    "        output = err.decode('utf-8').strip()\n",
    "    \n",
    "    _func_append_to_log('Local', command, output)\n",
    "    return output"
   ]
  },
  {
   "cell_type": "code",
   "execution_count": 30,
   "metadata": {},
   "outputs": [],
   "source": [
    "# Start Caching and Command Execution\n",
    "def cache_data(data, file_path):\n",
    "    with open(file_path, 'wb') as file:\n",
    "        pickle.dump(data, file)\n",
    "\n",
    "def load_cached_data(file_path):\n",
    "    if os.path.exists(file_path):\n",
    "        with open(file_path, 'rb') as file:\n",
    "            return pickle.load(file)\n",
    "\n",
    "def cache_command_output(cache_id, force_run, os_type, run_command):\n",
    "    cache_folder = 'Cache'\n",
    "    unique_id = f'{cache_id}.pkl'\n",
    "    cache_file_path = os.path.join(cache_folder, unique_id)\n",
    "\n",
    "    os.makedirs(cache_folder, exist_ok=True)\n",
    "\n",
    "    cached_data = load_cached_data(cache_file_path)\n",
    "    if cached_data is not None and not force_run:\n",
    "        print('[*] Loading data from cache.')\n",
    "        return cached_data\n",
    "    else:\n",
    "        print('[*] Cache not found or execution forced, executing command.')\n",
    "        if os_type == 'win':\n",
    "            result = _command_exe_win(run_command)\n",
    "        elif os_type == 'vm':\n",
    "            result = _command_exe_vm(run_command)\n",
    "        cache_data(result, cache_file_path)\n",
    "        return result"
   ]
  },
  {
   "cell_type": "markdown",
   "metadata": {},
   "source": [
    "### Action Template\n",
    "\n",
    "```python\n",
    "#Template for new actions\n",
    "\n",
    "#Whether to force the command to run regardless of cache\n",
    "#force_run = False\n",
    "\n",
    "#The name of the cache file\n",
    "#cmd_cache = ''\n",
    "\n",
    "#The syntax passed to the command\n",
    "#cmd_syntax = ''\n",
    "\n",
    "#Whether to run the command on local system or VM (accepts 'win' or 'vm')\n",
    "#cmd_os = ''\n",
    "\n",
    "#The cache and run function, no edits necessary\n",
    "#output = cache_command_output(cmd_cache, force_run, cmd_run)\n",
    "\n",
    "#print(output)\n",
    "```"
   ]
  },
  {
   "cell_type": "code",
   "execution_count": 31,
   "metadata": {},
   "outputs": [],
   "source": [
    "# Template for new actions\n",
    "\n",
    "#force_run = False\n",
    "\n",
    "#cmd_cache = ''\n",
    "#cmd_syntax = ''\n",
    "#cmd_os = ''\n",
    "\n",
    "#output = cache_command_output(cmd_cache, force_run, cmd_run)\n",
    "\n",
    "#print(output)"
   ]
  },
  {
   "cell_type": "markdown",
   "metadata": {},
   "source": [
    "## Environment Check\n"
   ]
  },
  {
   "cell_type": "code",
   "execution_count": 32,
   "metadata": {},
   "outputs": [
    {
     "name": "stdout",
     "output_type": "stream",
     "text": [
      "[*] Cache not found or execution forced, executing command.\n"
     ]
    },
    {
     "name": "stdout",
     "output_type": "stream",
     "text": [
      "72.193.145.223\n"
     ]
    }
   ],
   "source": [
    "# Find External IP\n",
    "force_run = True\n",
    "\n",
    "cmd_cache = 'ext_ip'\n",
    "cmd_os = 'vm'\n",
    "cmd_syntax = 'curl ip.beer'\n",
    "\n",
    "ext_ip = cache_command_output(cmd_cache, force_run, cmd_os, cmd_syntax).strip()\n",
    "\n",
    "\n",
    "print(ext_ip)"
   ]
  },
  {
   "cell_type": "markdown",
   "metadata": {},
   "source": [
    "## Scope"
   ]
  },
  {
   "cell_type": "code",
   "execution_count": 33,
   "metadata": {},
   "outputs": [
    {
     "name": "stdout",
     "output_type": "stream",
     "text": [
      "[*] Loading data from cache.\n",
      "Pinging 127.0.0.1 with 32 bytes of data:\n",
      "Reply from 127.0.0.1: bytes=32 time<1ms TTL=128\n",
      "Reply from 127.0.0.1: bytes=32 time<1ms TTL=128\n",
      "Reply from 127.0.0.1: bytes=32 time<1ms TTL=128\n",
      "Reply from 127.0.0.1: bytes=32 time<1ms TTL=128\n",
      "\n",
      "Ping statistics for 127.0.0.1:\n",
      "    Packets: Sent = 4, Received = 4, Lost = 0 (0% loss),\n",
      "Approximate round trip times in milli-seconds:\n",
      "    Minimum = 0ms, Maximum = 0ms, Average = 0ms\n"
     ]
    }
   ],
   "source": [
    "# Alives Check\n",
    "force_run = False\n",
    "\n",
    "cmd_cache = f'ping_{_var_target_ip}'\n",
    "cmd_syntax = f'ping -n 4 {_var_target_ip}' \n",
    "cmd_os = 'win'\n",
    "\n",
    "ping = cache_command_output(cmd_cache, force_run, cmd_os, cmd_syntax)\n",
    "\n",
    "print(ping)"
   ]
  },
  {
   "cell_type": "code",
   "execution_count": 34,
   "metadata": {},
   "outputs": [
    {
     "name": "stdout",
     "output_type": "stream",
     "text": [
      "[*] Cache not found or execution forced, executing command.\n",
      "Server:  dns.google\n",
      "Address:  8.8.8.8\n",
      "\n",
      "Name:    ip72-193-145-223.lv.lv.cox.net\n",
      "Address:  72.193.145.223\n"
     ]
    }
   ],
   "source": [
    "# DNS Lookup\n",
    "force_run = True\n",
    "cmd_cache = f'nslookup_{ext_ip}'\n",
    "cmd_syntax = f'nslookup {ext_ip}'\n",
    "cmd_os = 'win'\n",
    "\n",
    "dns = cache_command_output(cmd_cache, force_run, cmd_os, cmd_syntax)\n",
    "\n",
    "print(dns)"
   ]
  },
  {
   "cell_type": "code",
   "execution_count": 35,
   "metadata": {},
   "outputs": [
    {
     "name": "stdout",
     "output_type": "stream",
     "text": [
      "[*] Loading data from cache.\n",
      "kalidev\n",
      "\n"
     ]
    }
   ],
   "source": [
    "# Hostname from VM\n",
    "force_run = False\n",
    "cmd_cache = 'vmhostname'\n",
    "cmd_syntax = f'hostname'\n",
    "cmd_os = 'vm'\n",
    "\n",
    "_var_vm_hostname = cache_command_output(cmd_cache, force_run, cmd_os, cmd_syntax)\n",
    "\n",
    "print(_var_vm_hostname)"
   ]
  }
 ],
 "metadata": {
  "kernelspec": {
   "display_name": "Python 3",
   "language": "python",
   "name": "python3"
  },
  "language_info": {
   "codemirror_mode": {
    "name": "ipython",
    "version": 3
   },
   "file_extension": ".py",
   "mimetype": "text/x-python",
   "name": "python",
   "nbconvert_exporter": "python",
   "pygments_lexer": "ipython3",
   "version": "3.11.3"
  }
 },
 "nbformat": 4,
 "nbformat_minor": 2
}
